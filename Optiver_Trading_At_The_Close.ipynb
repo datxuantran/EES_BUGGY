{
  "nbformat": 4,
  "nbformat_minor": 0,
  "metadata": {
    "colab": {
      "private_outputs": true,
      "provenance": [],
      "authorship_tag": "ABX9TyOgUUPrCfWWG2PctMxTW/J/",
      "include_colab_link": true
    },
    "kernelspec": {
      "name": "python3",
      "display_name": "Python 3"
    },
    "language_info": {
      "name": "python"
    }
  },
  "cells": [
    {
      "cell_type": "markdown",
      "metadata": {
        "id": "view-in-github",
        "colab_type": "text"
      },
      "source": [
        "<a href=\"https://colab.research.google.com/github/datxuantran/EES_BUGGY/blob/main/Optiver_Trading_At_The_Close.ipynb\" target=\"_parent\"><img src=\"https://colab.research.google.com/assets/colab-badge.svg\" alt=\"Open In Colab\"/></a>"
      ]
    },
    {
      "cell_type": "code",
      "execution_count": null,
      "metadata": {
        "id": "lEmEKyHIrUgU"
      },
      "outputs": [],
      "source": [
        "!echo \"Hello Optiver\""
      ]
    },
    {
      "cell_type": "code",
      "source": [
        "!echo \"Second commit, testing revision history\""
      ],
      "metadata": {
        "id": "BimFbwMNsN0Z"
      },
      "execution_count": null,
      "outputs": []
    }
  ]
}